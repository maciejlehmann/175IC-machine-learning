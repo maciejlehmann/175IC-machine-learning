{
  "nbformat": 4,
  "nbformat_minor": 0,
  "metadata": {
    "colab": {
      "name": "Zad2.ipynb",
      "provenance": [],
      "authorship_tag": "ABX9TyPq2P61G05nAe6LgCIB6xH+",
      "include_colab_link": true
    },
    "kernelspec": {
      "name": "python3",
      "display_name": "Python 3"
    }
  },
  "cells": [
    {
      "cell_type": "markdown",
      "metadata": {
        "id": "view-in-github",
        "colab_type": "text"
      },
      "source": [
        "<a href=\"https://colab.research.google.com/github/maciejlehmann/175IC-machine-learning/blob/main/Zad2.ipynb\" target=\"_parent\"><img src=\"https://colab.research.google.com/assets/colab-badge.svg\" alt=\"Open In Colab\"/></a>"
      ]
    },
    {
      "cell_type": "code",
      "metadata": {
        "id": "9EyhjF97HzjN",
        "colab": {
          "base_uri": "https://localhost:8080/",
          "height": 486
        },
        "outputId": "e6eb5902-cae9-4f99-b81f-84503b106984"
      },
      "source": [
        "import pandas as pd\n",
        "import numpy as np\n",
        "from sklearn import preprocessing\n",
        "from sklearn.impute import SimpleImputer\n",
        "\n",
        "data = {\n",
        "    'size' : [np.nan, 'L', 'M', 'XL', 'M', np.nan, 'M', 'XXL', 'XL', 'L', 'M', 'XL', 'S', 'S', 'XL', 'M', 'L', np.nan, 'S', 'XL'],\n",
        "    'color' : [np.nan, 'blue', np.nan, 'blue', 'green', 'black', np.nan, 'yellow', 'blue', 'black', 'green', 'blue', 'white', 'black', 'yellow', 'black', 'white', np.nan, 'blue', 'black'],\n",
        "    'gender' : ['male', 'female', np.nan, 'male', np.nan, 'female', np.nan, 'female', 'male', 'female', 'male', np.nan, 'male', 'female', 'male', 'female', 'male', 'female', 'male', 'female'],\n",
        "    'price' : [np.nan, 90.0, np.nan, 141.0, 120.0, 84.0, np.nan, 174.0, np.nan, 230.0, np.nan, 129.0, 141.0, 165.0, 191.0, 80.0, 150.0, np.nan, 233.0, 97.0],\n",
        "    'weight' : [np.nan, 67.0, 65.0, np.nan, 73.0, 89.0, 102.0, np.nan, 78.0, 77.0, 73.0, 45.0, 101.0, 73.0, 64.0, 67.0, 100.0, np.nan, 59.0, 61.0],\n",
        "    'bought': ['no', 'yes', 'no', 'yes', 'no', 'yes', 'no', 'yes', 'no', 'yes', 'no', 'yes', 'no', 'yes', 'no', 'no', 'yes', 'no', 'yes', 'no']\n",
        "}\n",
        "\n",
        "df_raw = pd.DataFrame(data=data)\n",
        "df = df_raw.copy()\n",
        "\n",
        "# Zadanie 1\n",
        "df1 = df;\n",
        "df1.dropna(thresh=len(df1.keys())-2, inplace=True)\n",
        "print(df1);\n",
        "\n",
        "# Zadanie 2\n",
        "df2 = df;\n",
        "df2['price'].fillna(df2['price'].mean(), inplace=True)\n",
        "print(df2);\n",
        "\n",
        "# Zadanie 3\n",
        "df3 = df;\n",
        "df3['weight'].interpolate(inplace=True)\n",
        "print(df3);\n",
        "\n",
        "# Zadanie 4\n",
        "df4 = df;\n",
        "df4['gender'].fillna('male', inplace=True)\n",
        "df4['size'].fillna('unisex', inplace=True)\n",
        "df4['color'].fillna('black', inplace=True)\n",
        "print(df4);\n",
        "\n",
        "# Zadanie 5\n",
        "df5 = df2;\n",
        "df5['cost'] = pd.cut(df5['price'], bins=3, labels=[\"cheap\", \"normal\", \"expensive\"])\n",
        "print(df5)\n",
        "\n",
        "# Zadanie 6\n",
        "df6 = df;\n",
        "df6['bought'].replace(to_replace=\"yes\", value=bin(1), inplace=True)\n",
        "df6['bought'].replace(to_replace=\"no\", value=bin(0), inplace=True)\n",
        "print(df6);\n",
        "\n",
        "# Zadanie 7\n",
        "df7 = df;\n",
        "data = df[['size', 'color', 'gender', 'cost']]\n",
        "target = df['bought']\n",
        "x_train, x_test, y_train, y_test = train_test_split(data, target)"
      ],
      "execution_count": null,
      "outputs": [
        {
          "output_type": "stream",
          "text": [
            "      size   color  gender       price  weight bought       cost\n",
            "1        L    blue  female   90.000000    67.0    0b1      cheap\n",
            "3       XL    blue    male  141.000000    70.0    0b1     normal\n",
            "4        M   green    male  120.000000    73.0    0b0      cheap\n",
            "5   unisex   black  female   84.000000    89.0    0b1      cheap\n",
            "7      XXL  yellow  female  174.000000    83.5    0b1     normal\n",
            "8       XL    blue    male  144.642857    78.0    0b0     normal\n",
            "9        L   black  female  230.000000    77.0    0b1  expensive\n",
            "10       M   green    male  144.642857    73.0    0b0     normal\n",
            "11      XL    blue    male  129.000000    45.0    0b1      cheap\n",
            "12       S   white    male  141.000000   101.0    0b0     normal\n",
            "13       S   black  female  165.000000    73.0    0b1     normal\n",
            "14      XL  yellow    male  191.000000    64.0    0b0  expensive\n",
            "15       M   black  female   80.000000    67.0    0b0      cheap\n",
            "16       L   white    male  150.000000   100.0    0b1     normal\n",
            "18       S    blue    male  233.000000    59.0    0b1  expensive\n",
            "19      XL   black  female   97.000000    61.0    0b0      cheap\n"
          ],
          "name": "stdout"
        },
        {
          "output_type": "error",
          "ename": "NameError",
          "evalue": "ignored",
          "traceback": [
            "\u001b[0;31m---------------------------------------------------------------------------\u001b[0m",
            "\u001b[0;31mNameError\u001b[0m                                 Traceback (most recent call last)",
            "\u001b[0;32m<ipython-input-8-4e5d7ff0c35b>\u001b[0m in \u001b[0;36m<module>\u001b[0;34m()\u001b[0m\n\u001b[1;32m     53\u001b[0m \u001b[0mdata\u001b[0m \u001b[0;34m=\u001b[0m \u001b[0mdf\u001b[0m\u001b[0;34m[\u001b[0m\u001b[0;34m[\u001b[0m\u001b[0;34m'size'\u001b[0m\u001b[0;34m,\u001b[0m \u001b[0;34m'color'\u001b[0m\u001b[0;34m,\u001b[0m \u001b[0;34m'gender'\u001b[0m\u001b[0;34m,\u001b[0m \u001b[0;34m'cost'\u001b[0m\u001b[0;34m]\u001b[0m\u001b[0;34m]\u001b[0m\u001b[0;34m\u001b[0m\u001b[0;34m\u001b[0m\u001b[0m\n\u001b[1;32m     54\u001b[0m \u001b[0mtarget\u001b[0m \u001b[0;34m=\u001b[0m \u001b[0mdf\u001b[0m\u001b[0;34m[\u001b[0m\u001b[0;34m'bought'\u001b[0m\u001b[0;34m]\u001b[0m\u001b[0;34m\u001b[0m\u001b[0;34m\u001b[0m\u001b[0m\n\u001b[0;32m---> 55\u001b[0;31m \u001b[0mx_train\u001b[0m\u001b[0;34m,\u001b[0m \u001b[0mx_test\u001b[0m\u001b[0;34m,\u001b[0m \u001b[0my_train\u001b[0m\u001b[0;34m,\u001b[0m \u001b[0my_test\u001b[0m \u001b[0;34m=\u001b[0m \u001b[0mtrain_test_split\u001b[0m\u001b[0;34m(\u001b[0m\u001b[0mdata\u001b[0m\u001b[0;34m,\u001b[0m \u001b[0mtarget\u001b[0m\u001b[0;34m)\u001b[0m\u001b[0;34m\u001b[0m\u001b[0;34m\u001b[0m\u001b[0m\n\u001b[0m",
            "\u001b[0;31mNameError\u001b[0m: name 'train_test_split' is not defined"
          ]
        }
      ]
    }
  ]
}