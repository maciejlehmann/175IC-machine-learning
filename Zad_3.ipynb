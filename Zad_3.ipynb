{
  "nbformat": 4,
  "nbformat_minor": 0,
  "metadata": {
    "colab": {
      "name": "Zad_3.ipynb",
      "provenance": [],
      "authorship_tag": "ABX9TyNE67h4aNQo5G02Dx5d7w+0",
      "include_colab_link": true
    },
    "kernelspec": {
      "name": "python3",
      "display_name": "Python 3"
    }
  },
  "cells": [
    {
      "cell_type": "markdown",
      "metadata": {
        "id": "view-in-github",
        "colab_type": "text"
      },
      "source": [
        "<a href=\"https://colab.research.google.com/github/maciejlehmann/175IC-machine-learning/blob/main/Zad_3.ipynb\" target=\"_parent\"><img src=\"https://colab.research.google.com/assets/colab-badge.svg\" alt=\"Open In Colab\"/></a>"
      ]
    },
    {
      "cell_type": "code",
      "metadata": {
        "colab": {
          "base_uri": "https://localhost:8080/"
        },
        "id": "JHQ8gkbVMwqK",
        "outputId": "93cda35c-36e2-42a5-f542-6748bc5bdf85"
      },
      "source": [
        "import numpy as np\n",
        "import pandas as pd\n",
        "import matplotlib.pyplot as plt\n",
        "import plotly.express as px\n",
        "import seaborn as sns\n",
        "import sklearn\n",
        "import statsmodels.api as sm\n",
        "from sklearn.model_selection import train_test_split\n",
        "from sklearn.linear_model import LinearRegression\n",
        "from sklearn.metrics import mean_absolute_error\n",
        "import sys\n",
        "\n",
        "np.random.seed(57)\n",
        "df_raw = pd.read_csv('https://storage.googleapis.com/esmartdata-courses-files/ml-course/insurance.csv')\n",
        "df_raw.head()\n",
        "df = df_raw.copy()\n",
        "df.drop_duplicates()\n",
        "for col in ['sex', 'smoker','region']:\n",
        "  df[col] = df[col].astype('category');\n",
        "# df.info()\n",
        "\n",
        "# df.sex.value_counts()\n",
        "# df.sex.value_counts().plot(kind='pie')\n",
        "\n",
        "# df.smoker.value_counts()\n",
        "\n",
        "# df.charges.plot(kind='hist', bins=30)\n",
        "\n",
        "# px.histogram(df, x='charges', width=700, height=400, nbins=50, facet_col='smoker', facet_row='sex')\n",
        "\n",
        "df_dummies = pd.get_dummies(df, drop_first=True)\n",
        "# df_dummies\n",
        "# corr = df_dummies.corr()\n",
        "# corr\n",
        "\n",
        "# sns.set(style=\"white\")\n",
        "# mask = np.zeros_like(corr)\n",
        "# mask[np.tril_indices_from(mask)] = 1\n",
        "# plt.subplots(figsize=(10, 10))\n",
        "# cmap = sns.diverging_palette(200,10)\n",
        "# sns.heatmap(corr, mask=mask, cmap=cmap, vmax=0.25, vmin=-0.25)\n",
        "\n",
        "# df_dummies.corr()['charges'].sort_values(ascending=True)\n",
        "# df_dummies.corr()['charges'].sort_values().plot(kind='barh')\n",
        "\n",
        "output = df_dummies['charges']\n",
        "input = df_dummies.drop(columns='charges')\n",
        "x_train,x_test,y_train,y_test = train_test_split(input,output,test_size=0.2)\n",
        "\n",
        "regressor = LinearRegression()\n",
        "regressor.fit(x_train,y_train)\n",
        "\n",
        "r2_result=regressor.score(x_test,y_test)\n",
        "# print(f'R2 result: {r2_result:.4f}')\n",
        "\n",
        "y_pred = regressor.predict(x_test)\n",
        "y_pred[:10]\n",
        "\n",
        "y_true = y_test.copy()\n",
        "predictions = pd.DataFrame(data={'y_true': y_true, 'y_pred': y_pred})\n",
        "predictions['error'] = predictions['y_true'] - predictions['y_pred']\n",
        "# predictions.error.plot(kind='hist',bins=30)\n",
        "\n",
        "mae = mean_absolute_error(y_true, y_pred)\n",
        "# print(f'MAE wynosi: {mae:.2f}')\n",
        "\n",
        "x_train_ols = sm.add_constant(x_train.values)\n",
        "ols = sm.OLS(endog=y_train,exog=x_train_ols).fit()\n",
        "predictors = ['const'] + list(x_train.columns)\n",
        "# print(ols.summary(xname=predictors))\n",
        "\n",
        "df_dummies_2 = df_dummies.drop(columns=['sex_male', 'region_northwest', 'region_southeast', 'region_southwest'])\n",
        "\n",
        "output = df_dummies_2['charges']\n",
        "input = df_dummies_2.drop(columns='charges')\n",
        "x_train,x_test,y_train,y_test = train_test_split(input,output,test_size=0.2)\n",
        "\n",
        "regressor = LinearRegression()\n",
        "regressor.fit(x_train,y_train)\n",
        "\n",
        "r2_result_2= regressor.score(x_test,y_test)\n",
        "print(f'R2 wynosi: {r2_result:.4f}')\n",
        "print(f'R2 2 wynosi : {r2_result_2:.4f}')\n",
        "\n",
        "y_pred = regressor.predict(x_test)\n",
        "y_true = y_test.copy()\n",
        "\n",
        "mae2 = mean_absolute_error(y_true, y_pred)\n",
        "print(f'MAE wynosi: {mae:.2f}')\n",
        "print(f'MAE 2 wynosi: {mae2:.2f}')\n",
        "\n",
        "raw_size = sys.getsizeof(df_dummies)\n",
        "new_size = sys.getsizeof(df_dummies_2)\n",
        "print(f'Oszczędność miejsca wynosi: {100-(new_size/raw_size*100):.4f}%')"
      ],
      "execution_count": 50,
      "outputs": [
        {
          "output_type": "stream",
          "text": [
            "R2 wynosi: 0.7748\n",
            "R2 2 wynosi : 0.7018\n",
            "MAE wynosi: 4110.55\n",
            "MAE 2 wynosi: 4369.64\n",
            "Oszczędność miejsca wynosi: 10.7777%\n"
          ],
          "name": "stdout"
        }
      ]
    }
  ]
}